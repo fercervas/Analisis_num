{
  "nbformat": 4,
  "nbformat_minor": 0,
  "metadata": {
    "colab": {
      "provenance": [],
      "collapsed_sections": [
        "NtQK90d5WDgH",
        "vH4BWnxJKXeo",
        "vvFI7uZeNAnH",
        "X5cROrUQ5cYj",
        "JpTbxG_B3O5L",
        "3WPDK9c9ujnp",
        "FBKXoTBBu6Aj",
        "TR_n9kP5yYsH",
        "WksfRKcc16sL",
        "HyjhPT9rHY5e",
        "NQodbNKGqdOk",
        "pFvS4hg2tZbb",
        "WiWZgODLxGBR",
        "kLR7I0j4fwb5",
        "Hj0eUbtShgEr"
      ]
    },
    "kernelspec": {
      "name": "python3",
      "display_name": "Python 3"
    },
    "language_info": {
      "name": "python"
    }
  },
  "cells": [
    {
      "cell_type": "markdown",
      "source": [
        "# Semestre 2025-1\n",
        "\n",
        "# Portafolio de ejercicios Análisis numérico\n",
        "##### Cervantes Vasconcelos María Fernanda\n"
      ],
      "metadata": {
        "id": "kybbkodhVw00"
      }
    },
    {
      "cell_type": "markdown",
      "source": [
        "# Capítulo 1\n",
        "\n",
        "El capítulo explica los números en punto flotante, que son aquellos que las computadoras representan con un número limitado de dígitos. Se destacan los errores de redondeo que pueden ocurrir durante los cálculos, afectando los resultados dependiendo de cómo se formulen las operaciones. Además, se menciona la pérdida de significancia, que ocurre al restar números muy cercanos, lo que genera resultados imprecisos."
      ],
      "metadata": {
        "id": "jeS1k03_VyV7"
      }
    },
    {
      "cell_type": "code",
      "source": [
        "import sys\n",
        "import numpy as np\n",
        "import pandas as pd\n",
        "import matplotlib.pyplot as plt\n",
        "import math as mt"
      ],
      "metadata": {
        "id": "70VZdLpTNXh_"
      },
      "execution_count": null,
      "outputs": []
    },
    {
      "cell_type": "markdown",
      "source": [
        "## Ejercicio 1\n",
        "Escribir un código para transformar un número natural a su representación en base 2."
      ],
      "metadata": {
        "id": "NtQK90d5WDgH"
      }
    },
    {
      "cell_type": "code",
      "execution_count": null,
      "metadata": {
        "id": "MM-bnUBQtqtl"
      },
      "outputs": [],
      "source": [
        "def basedos(n):\n",
        "  p=n\n",
        "  k = list()\n",
        "  if n > 0:\n",
        "    while n > 0:\n",
        "      m = n % 2\n",
        "      n = n // 2 #Saca la mitad pero como entero\n",
        "      k.append(m) #Va agregando los resuidos que se obtienen a la lista k\n",
        "    k.reverse() #Reescribe la lista pero empezando con el último término\n",
        "    numero_base_2 = ''.join(map(str, k)) #Nos ayuda a juntar los valores de la lista pero sin las comas\n",
        "    print('El número ', p , 'en base dos es ', numero_base_2)\n",
        "  else:\n",
        "    print(\"El número ingresado no es un entero positivo\")\n"
      ]
    },
    {
      "cell_type": "code",
      "source": [
        "basedos(2)\n"
      ],
      "metadata": {
        "colab": {
          "base_uri": "https://localhost:8080/"
        },
        "id": "jEcM5TlHt_1W",
        "outputId": "f836d97f-f6ac-48f8-f682-d30a9e59b6e8"
      },
      "execution_count": null,
      "outputs": [
        {
          "output_type": "stream",
          "name": "stdout",
          "text": [
            "El número  2 en base dos es  10\n"
          ]
        }
      ]
    },
    {
      "cell_type": "markdown",
      "source": [
        "## Ejercicio 2  \n",
        "Escribir dos funciones en python que cálculen las siguientes sumas\n",
        "$$S(k)= 1+\\frac{1}{2}+\\dots +\\frac{1}{k-1}+\\frac{1}{k}, \\mbox{ y }$$\n",
        "$$s(k)= \\frac{1}{k}+\\frac{1}{k-1}+\\dots +\\frac{1}{2}+1$$\n",
        "\n",
        "Ahora iterar sobre $k$ en un rango e ir calculando los errores absolutos y relativos para cada $k$.\n",
        "\n"
      ],
      "metadata": {
        "id": "vH4BWnxJKXeo"
      }
    },
    {
      "cell_type": "code",
      "source": [
        "def S_k(n):\n",
        "  S = 0\n",
        "  for k in range(1,n+1):\n",
        "    S = S + 1/k\n",
        "  return S"
      ],
      "metadata": {
        "id": "tr7hSIQXUFWU"
      },
      "execution_count": null,
      "outputs": []
    },
    {
      "cell_type": "code",
      "source": [
        "def s_k(n):\n",
        "  s = 0\n",
        "  for k in range(1,n+1):\n",
        "    s = s + 1/(n+1-k)\n",
        "  return s"
      ],
      "metadata": {
        "id": "Vnm7vPRCUFAW"
      },
      "execution_count": null,
      "outputs": []
    },
    {
      "cell_type": "code",
      "source": [
        "for i in range(1,10):\n",
        "  error_abs = abs(S_k(i)-s_k(i))\n",
        "  error_re = error_abs/(S_k(i))\n",
        "  print('El error absoluto para k=',i,'es de ',error_abs)\n",
        "  print('El error relativo para k=',i,'es de ',error_re*100,'%\\n')"
      ],
      "metadata": {
        "colab": {
          "base_uri": "https://localhost:8080/"
        },
        "id": "PeIZIxkkY_wc",
        "outputId": "82b1f39b-f38c-49a5-cc2b-0771a76fbc3a"
      },
      "execution_count": null,
      "outputs": [
        {
          "output_type": "stream",
          "name": "stdout",
          "text": [
            "El error absoluto para k= 1 es de  0.0\n",
            "El error relativo para k= 1 es de  0.0 %\n",
            "\n",
            "El error absoluto para k= 2 es de  0.0\n",
            "El error relativo para k= 2 es de  0.0 %\n",
            "\n",
            "El error absoluto para k= 3 es de  0.0\n",
            "El error relativo para k= 3 es de  0.0 %\n",
            "\n",
            "El error absoluto para k= 4 es de  0.0\n",
            "El error relativo para k= 4 es de  0.0 %\n",
            "\n",
            "El error absoluto para k= 5 es de  0.0\n",
            "El error relativo para k= 5 es de  0.0 %\n",
            "\n",
            "El error absoluto para k= 6 es de  4.440892098500626e-16\n",
            "El error relativo para k= 6 es de  1.8126090197961742e-14 %\n",
            "\n",
            "El error absoluto para k= 7 es de  0.0\n",
            "El error relativo para k= 7 es de  0.0 %\n",
            "\n",
            "El error absoluto para k= 8 es de  0.0\n",
            "El error relativo para k= 8 es de  0.0 %\n",
            "\n",
            "El error absoluto para k= 9 es de  4.440892098500626e-16\n",
            "El error relativo para k= 9 es de  1.569792129081439e-14 %\n",
            "\n"
          ]
        }
      ]
    },
    {
      "cell_type": "markdown",
      "source": [
        "## Ejercicio 3\n",
        "Escribir dos funciones para cada una de las siguientes funciones:\n",
        "$$f(x)=(x+1)^8$$\n",
        "$$g(x)=\\mbox{ El desarrollo algebraico de } f $$\n",
        "Comparar los resultados evaluando sobre los intervalos\n",
        "   * $[0.9, 1.1]$\n",
        "   * $[0.98, 1.02]$\n",
        "\n",
        "   Dibujarlo."
      ],
      "metadata": {
        "id": "vvFI7uZeNAnH"
      }
    },
    {
      "cell_type": "code",
      "source": [
        "def f(x):\n",
        "  f = (x - 1)**8\n",
        "  return f"
      ],
      "metadata": {
        "id": "5JN4dIpXKwOd"
      },
      "execution_count": null,
      "outputs": []
    },
    {
      "cell_type": "code",
      "source": [
        "def g(x):\n",
        "  g = x**8 - 8*(x**7) + 28*(x**6) - 56*(x**5) + 70*(x**4) -56*(x**3) + 28*(x**2) - 8*x +1\n",
        "  return g"
      ],
      "metadata": {
        "id": "-CZdQ1oQNu67"
      },
      "execution_count": null,
      "outputs": []
    },
    {
      "cell_type": "code",
      "source": [
        "# Para el intervalo [0.9 , 1.1]\n",
        "intervalo1 = np.arange(0.9,1.1,0.001)\n",
        "\n",
        "resultadof1 = [f(x) for x in intervalo1]\n",
        "resultadog1 = [g(x) for x in intervalo1]\n",
        "\n",
        "#for x in intervalo1:\n",
        "  #error_abs = abs(f(x)-g(x))\n",
        "  #error_re = error_abs/(f(x))\n",
        "  #print('El error absoluto es de ',error_abs)\n",
        "  #print('El error relativo es de ',error_re*100,'%\\n')\n",
        "\n",
        "plt.plot(intervalo1,resultadof1)\n",
        "plt.plot(intervalo1,resultadog1)\n",
        "plt.title(\"Funciones f(x) y g(x)\")\n",
        "plt.legend([\"f(x)\",\"g(x)\"])"
      ],
      "metadata": {
        "colab": {
          "base_uri": "https://localhost:8080/",
          "height": 469
        },
        "id": "4lHhE9QVau1O",
        "outputId": "47cec13b-7a86-4f18-c4f0-53305846686e"
      },
      "execution_count": null,
      "outputs": [
        {
          "output_type": "execute_result",
          "data": {
            "text/plain": [
              "<matplotlib.legend.Legend at 0x7cd5dd548520>"
            ]
          },
          "metadata": {},
          "execution_count": 4
        },
        {
          "output_type": "display_data",
          "data": {
            "text/plain": [
              "<Figure size 640x480 with 1 Axes>"
            ],
            "image/png": "[encoded data removed]"
          },
          "metadata": {}
        }
      ]
    },
    {
      "cell_type": "code",
      "source": [
        "# Para el intervalo [0.98 , 1.02]\n",
        "intervalo2 = np.arange(0.98,1.02,0.0001)\n",
        "\n",
        "resultadof2 = [f(x) for x in intervalo2]\n",
        "resultadog2 = [g(x) for x in intervalo2]\n",
        "\n",
        "\n",
        "plt.plot(intervalo2,resultadof2)\n",
        "plt.plot(intervalo2,resultadog2)\n",
        "plt.title(\"Funciones f(x) y g(x)\")\n",
        "plt.legend([\"f(x)\",\"g(x)\"])"
      ],
      "metadata": {
        "colab": {
          "base_uri": "https://localhost:8080/",
          "height": 469
        },
        "id": "_tEg2bJlczm2",
        "outputId": "bc86c544-175c-4ebd-9fd6-6960646fb35d"
      },
      "execution_count": null,
      "outputs": [
        {
          "output_type": "execute_result",
          "data": {
            "text/plain": [
              "<matplotlib.legend.Legend at 0x7cd5dd40bb50>"
            ]
          },
          "metadata": {},
          "execution_count": 5
        },
        {
          "output_type": "display_data",
          "data": {
            "text/plain": [
              "<Figure size 640x480 with 1 Axes>"
            ],
            "image/png": "[encoded data removed]"
          },
          "metadata": {}
        }
      ]
    },
    {
      "cell_type": "code",
      "source": [],
      "metadata": {
        "id": "u4lHSW9GehUE"
      },
      "execution_count": null,
      "outputs": []
    },
    {
      "cell_type": "markdown",
      "source": [
        "# Capítulo 2\n",
        "\n",
        "En este capítulo se exploran métodos para resolver ecuaciones de la forma  $f(x) = 0 $. Estos enfoques requieren un punto inicial $ x_0$ , y se sugiere que es útil tener una idea aproximada de dónde se encuentra la solución, utilizando una gráfica como guía. Uno de los métodos tratados es el de \"Bisección\", el cual permite calcular cuántas iteraciones son necesarias para alcanzar un error determinado. Además, se analiza el concepto de orden de convergencia, que depende del método utilizado y determina el número de iteraciones requeridas para llegar al resultado final."
      ],
      "metadata": {
        "id": "xvvGkTts5WZp"
      }
    },
    {
      "cell_type": "markdown",
      "source": [
        "##Ejercicio 2.1\n",
        "\n",
        "Escribir un código en python que describa el psudocódigo abajo. La implementción tiene que ser una función.\n",
        "\n",
        "Para prueba:\n",
        "- $f(x) = x^3$ y $[-1,a]$, con $a>0$.\n",
        "\n",
        "\n",
        "**Psudocódigo:**\n",
        "\n",
        "DATOS de entrada $a,b,$ $N_0$ número de interaciones, $TOL$\n",
        "   - Paso 1 $i=1$;\n",
        "      - $FA = f(a)$.\n",
        "   - Paso 2 Mientras $i \\leq N_0$ haga los pasos $3-6$.\n",
        "      - Paso 3 Sea $p=a+(b-a)/2$ (calcule $p_i$); $FP = f(p).$\n",
        "      - Paso 4 Si $FP = 0$ o $(b-a)/2 < TOL$ entonces\n",
        "          * SALIDA ($p$).\n",
        "          * PARE.\n",
        "      - Paso 5 Sea $i = i +1$.\n",
        "      - Paso 6 Si $FA\\cdot FP > 0$ entonces determine $a= p$; (Calcule $a_i$, $b_i$.)\n",
        "         - $FA = FP$\n",
        "         También determine $b=p$. ($FA$ no cambia.)\n",
        "   - Paso 7 SALIDA (\"El método fracasó después de $N_0$ iteraciones con $N_0=$\",$N_0$);\n",
        "      - (El procedimiento no fue exitoso.) PARE"
      ],
      "metadata": {
        "id": "X5cROrUQ5cYj"
      }
    },
    {
      "cell_type": "code",
      "source": [
        "# Definición de la función\n",
        "def f(x):\n",
        "  return x**3\n",
        "\n",
        "\n",
        "\n",
        "# (a,b) es el intervalo\n",
        "# N el número de iteraciones\n",
        "# tol la tolerancia\n",
        "# f  la función\n",
        "def Bisec(f,a,b,N,tol):\n",
        "  i = 1\n",
        "  fa = f(a)\n",
        "  while i <= N:\n",
        "    p = a+(b-a)/2\n",
        "    print(\"p = \",p)\n",
        "    fp = f(p)\n",
        "    print(\"f(p) = \",fp)\n",
        "    if p**3 == 0.0  or (b-a)/2 < tol:\n",
        "      print(\"La raíz de la ecución es \", p)\n",
        "      print(\"Se obtuvo en la iteración \",i)\n",
        "      break\n",
        "    i += 1\n",
        "    if fa*fp > 0:\n",
        "      a = p\n",
        "    elif fa*fp < 0:\n",
        "      b = p\n",
        "\n",
        "    if i == N:\n",
        "      print(\"El método fracaso después de N iteraciones con N=\",i)"
      ],
      "metadata": {
        "id": "IomO9plo6kDZ"
      },
      "execution_count": null,
      "outputs": []
    },
    {
      "cell_type": "code",
      "source": [
        "Bisec(f,-2,3,100,0.1)"
      ],
      "metadata": {
        "colab": {
          "base_uri": "https://localhost:8080/"
        },
        "id": "kC6N3YacR7tH",
        "outputId": "42433d1a-b214-4486-ba0a-2918e14aa11e"
      },
      "execution_count": null,
      "outputs": [
        {
          "output_type": "stream",
          "name": "stdout",
          "text": [
            "p =  0.5\n",
            "f(p) =  14837.5\n",
            "p =  -0.75\n",
            "f(p) =  -6910.546875\n",
            "p =  -0.125\n",
            "f(p) =  -3777.30712890625\n",
            "p =  0.1875\n",
            "f(p) =  1853.2527923583984\n",
            "p =  0.03125\n",
            "f(p) =  -1576.9191145896912\n",
            "p =  0.109375\n",
            "f(p) =  -47.222279384732246\n",
            "La raíz de la ecución es  0.109375\n",
            "Se obtuvo en la iteración  6\n"
          ]
        }
      ]
    },
    {
      "cell_type": "code",
      "source": [
        "def f(x):\n",
        "  return 8000000*(x**12) - 45000*((1-x**12)/(x-1)*(x))\n",
        "\n",
        "Bisec(f,0.0,0.5,100,0.01)"
      ],
      "metadata": {
        "id": "DMnAvu0ImVHy",
        "colab": {
          "base_uri": "https://localhost:8080/"
        },
        "outputId": "7ccd48d7-6f51-482c-8068-740c9cb92a34"
      },
      "execution_count": null,
      "outputs": [
        {
          "output_type": "stream",
          "name": "stdout",
          "text": [
            "p =  0.25\n",
            "f(p) =  15000.475943088531\n",
            "p =  0.25\n",
            "f(p) =  15000.475943088531\n",
            "p =  0.25\n",
            "f(p) =  15000.475943088531\n",
            "p =  0.25\n",
            "f(p) =  15000.475943088531\n",
            "p =  0.25\n",
            "f(p) =  15000.475943088531\n",
            "p =  0.25\n",
            "f(p) =  15000.475943088531\n",
            "p =  0.25\n",
            "f(p) =  15000.475943088531\n",
            "p =  0.25\n",
            "f(p) =  15000.475943088531\n",
            "p =  0.25\n",
            "f(p) =  15000.475943088531\n",
            "p =  0.25\n",
            "f(p) =  15000.475943088531\n",
            "p =  0.25\n",
            "f(p) =  15000.475943088531\n",
            "p =  0.25\n",
            "f(p) =  15000.475943088531\n",
            "p =  0.25\n",
            "f(p) =  15000.475943088531\n",
            "p =  0.25\n",
            "f(p) =  15000.475943088531\n",
            "p =  0.25\n",
            "f(p) =  15000.475943088531\n",
            "p =  0.25\n",
            "f(p) =  15000.475943088531\n",
            "p =  0.25\n",
            "f(p) =  15000.475943088531\n",
            "p =  0.25\n",
            "f(p) =  15000.475943088531\n",
            "p =  0.25\n",
            "f(p) =  15000.475943088531\n",
            "p =  0.25\n",
            "f(p) =  15000.475943088531\n",
            "p =  0.25\n",
            "f(p) =  15000.475943088531\n",
            "p =  0.25\n",
            "f(p) =  15000.475943088531\n",
            "p =  0.25\n",
            "f(p) =  15000.475943088531\n",
            "p =  0.25\n",
            "f(p) =  15000.475943088531\n",
            "p =  0.25\n",
            "f(p) =  15000.475943088531\n",
            "p =  0.25\n",
            "f(p) =  15000.475943088531\n",
            "p =  0.25\n",
            "f(p) =  15000.475943088531\n",
            "p =  0.25\n",
            "f(p) =  15000.475943088531\n",
            "p =  0.25\n",
            "f(p) =  15000.475943088531\n",
            "p =  0.25\n",
            "f(p) =  15000.475943088531\n",
            "p =  0.25\n",
            "f(p) =  15000.475943088531\n",
            "p =  0.25\n",
            "f(p) =  15000.475943088531\n",
            "p =  0.25\n",
            "f(p) =  15000.475943088531\n",
            "p =  0.25\n",
            "f(p) =  15000.475943088531\n",
            "p =  0.25\n",
            "f(p) =  15000.475943088531\n",
            "p =  0.25\n",
            "f(p) =  15000.475943088531\n",
            "p =  0.25\n",
            "f(p) =  15000.475943088531\n",
            "p =  0.25\n",
            "f(p) =  15000.475943088531\n",
            "p =  0.25\n",
            "f(p) =  15000.475943088531\n",
            "p =  0.25\n",
            "f(p) =  15000.475943088531\n",
            "p =  0.25\n",
            "f(p) =  15000.475943088531\n",
            "p =  0.25\n",
            "f(p) =  15000.475943088531\n",
            "p =  0.25\n",
            "f(p) =  15000.475943088531\n",
            "p =  0.25\n",
            "f(p) =  15000.475943088531\n",
            "p =  0.25\n",
            "f(p) =  15000.475943088531\n",
            "p =  0.25\n",
            "f(p) =  15000.475943088531\n",
            "p =  0.25\n",
            "f(p) =  15000.475943088531\n",
            "p =  0.25\n",
            "f(p) =  15000.475943088531\n",
            "p =  0.25\n",
            "f(p) =  15000.475943088531\n",
            "p =  0.25\n",
            "f(p) =  15000.475943088531\n",
            "p =  0.25\n",
            "f(p) =  15000.475943088531\n",
            "p =  0.25\n",
            "f(p) =  15000.475943088531\n",
            "p =  0.25\n",
            "f(p) =  15000.475943088531\n",
            "p =  0.25\n",
            "f(p) =  15000.475943088531\n",
            "p =  0.25\n",
            "f(p) =  15000.475943088531\n",
            "p =  0.25\n",
            "f(p) =  15000.475943088531\n",
            "p =  0.25\n",
            "f(p) =  15000.475943088531\n",
            "p =  0.25\n",
            "f(p) =  15000.475943088531\n",
            "p =  0.25\n",
            "f(p) =  15000.475943088531\n",
            "p =  0.25\n",
            "f(p) =  15000.475943088531\n",
            "p =  0.25\n",
            "f(p) =  15000.475943088531\n",
            "p =  0.25\n",
            "f(p) =  15000.475943088531\n",
            "p =  0.25\n",
            "f(p) =  15000.475943088531\n",
            "p =  0.25\n",
            "f(p) =  15000.475943088531\n",
            "p =  0.25\n",
            "f(p) =  15000.475943088531\n",
            "p =  0.25\n",
            "f(p) =  15000.475943088531\n",
            "p =  0.25\n",
            "f(p) =  15000.475943088531\n",
            "p =  0.25\n",
            "f(p) =  15000.475943088531\n",
            "p =  0.25\n",
            "f(p) =  15000.475943088531\n",
            "p =  0.25\n",
            "f(p) =  15000.475943088531\n",
            "p =  0.25\n",
            "f(p) =  15000.475943088531\n",
            "p =  0.25\n",
            "f(p) =  15000.475943088531\n",
            "p =  0.25\n",
            "f(p) =  15000.475943088531\n",
            "p =  0.25\n",
            "f(p) =  15000.475943088531\n",
            "p =  0.25\n",
            "f(p) =  15000.475943088531\n",
            "p =  0.25\n",
            "f(p) =  15000.475943088531\n",
            "p =  0.25\n",
            "f(p) =  15000.475943088531\n",
            "p =  0.25\n",
            "f(p) =  15000.475943088531\n",
            "p =  0.25\n",
            "f(p) =  15000.475943088531\n",
            "p =  0.25\n",
            "f(p) =  15000.475943088531\n",
            "p =  0.25\n",
            "f(p) =  15000.475943088531\n",
            "p =  0.25\n",
            "f(p) =  15000.475943088531\n",
            "p =  0.25\n",
            "f(p) =  15000.475943088531\n",
            "p =  0.25\n",
            "f(p) =  15000.475943088531\n",
            "p =  0.25\n",
            "f(p) =  15000.475943088531\n",
            "p =  0.25\n",
            "f(p) =  15000.475943088531\n",
            "p =  0.25\n",
            "f(p) =  15000.475943088531\n",
            "p =  0.25\n",
            "f(p) =  15000.475943088531\n",
            "p =  0.25\n",
            "f(p) =  15000.475943088531\n",
            "p =  0.25\n",
            "f(p) =  15000.475943088531\n",
            "p =  0.25\n",
            "f(p) =  15000.475943088531\n",
            "p =  0.25\n",
            "f(p) =  15000.475943088531\n",
            "p =  0.25\n",
            "f(p) =  15000.475943088531\n",
            "p =  0.25\n",
            "f(p) =  15000.475943088531\n",
            "p =  0.25\n",
            "f(p) =  15000.475943088531\n",
            "p =  0.25\n",
            "f(p) =  15000.475943088531\n",
            "p =  0.25\n",
            "f(p) =  15000.475943088531\n",
            "p =  0.25\n",
            "f(p) =  15000.475943088531\n",
            "p =  0.25\n",
            "f(p) =  15000.475943088531\n",
            "El método fracaso después de N iteraciones con N= 100\n",
            "p =  0.25\n",
            "f(p) =  15000.475943088531\n"
          ]
        }
      ]
    },
    {
      "cell_type": "markdown",
      "source": [
        "##Ejercicio 2.2\n",
        "- Mostrar que $g(x)=\\frac{x^2-1}{3}$ tiene un único punto fijo en el intervalo $[-1,1]$.\n",
        "- Hallarlo con la implementación del método de bisección (con una tolerancia de $0.00001$).\n",
        "- Extra: Haga un diagrama que muestre la gráfica de $g$, la identidad $x=y$, el corte de punto fijo y la caja donde se está aplicando el teorema.\n"
      ],
      "metadata": {
        "id": "JpTbxG_B3O5L"
      }
    },
    {
      "cell_type": "markdown",
      "source": [
        "Como $g\\in C[-1,1] $ y se cumple que\n",
        "$Im(g)\\subset [-1,1]$ ya que si $x\\in[-1,1]$ entonces\n",
        "$$0\\le x^{2} \\le 1 $$\n",
        "$$-1 \\le x^{2}-1 \\le 0$$\n",
        "$$-\\frac{1}{3}\\le \\frac{x^{2}-1}{3} \\le 0 $$\n",
        "\n",
        "Por lo que $Im(g)=[-\\frac{1}{3},0]\\subset [-1,1]$ entonces $g$ tiene al menos un punto fijo.\n",
        "\n",
        "Por otro lado $g'(x) = \\frac{2x}{3}$ y esta existe en $(-1,1)$. Como $-1 < x < 1$ tendremos que $|x|<1$ y con esto tendremos que $|\\frac{2x}{3}|<\\frac{2}{3}$. Con esto podemos decir que $k=\\frac{2}{3}$.\n",
        "\n",
        "\n"
      ],
      "metadata": {
        "id": "nN3pGOjv4HwS"
      }
    },
    {
      "cell_type": "code",
      "source": [
        "# Definición de funciones\n",
        "\n",
        "def g(x):\n",
        "  return x\n",
        "\n",
        "\n",
        "def f(x):\n",
        "  return (x**2-1)/3\n",
        "\n",
        "#IMPLEMENTACIÓN DE LA BISECCIÓN\n",
        "# Con 100 iteraciones en el intervalo [-1,1] y una tolerancia de 0.00001\n",
        "\n",
        "Bisec(f,-1,1,100,0.00001)\n",
        "\n",
        "# Para el intervalo [-1,1]\n",
        "intervalo2 = np.arange(-1,1,0.00001)\n",
        "\n",
        "\n",
        "resultadof2 = [f(x) for x in intervalo2]\n",
        "resultadog2 = [g(x) for x in intervalo2]\n",
        "\n",
        "\n",
        "plt.plot(intervalo2,resultadof2)\n",
        "plt.plot(intervalo2,resultadog2)\n",
        "plt.title(\"Funciones f(x) y g(x)\")\n",
        "plt.legend([\"f(x)\",\"g(x)\"])\n",
        "\n",
        "plt.plot(-0.302775, ((-0.302775)**2 - 1)/3, ls = '', marker = \"o\",\n",
        "         markersize = 10, label = \"corte\",\n",
        "         color = 'green')\n",
        "\n",
        "# Ejes\n",
        "plt.axvline(x = 0, color = 'black', ls = ':')\n",
        "plt.axhline(y = 0, color = 'black', ls = ':')\n",
        "\n",
        "# Etiquedas y graficamos\n",
        "plt.title(\"Cortes que representan la solución de g(x)=x\")\n",
        "plt.legend()\n",
        "plt.show()"
      ],
      "metadata": {
        "id": "Us-BF13cVHuQ",
        "colab": {
          "base_uri": "https://localhost:8080/",
          "height": 524
        },
        "outputId": "55bc7e96-ff14-46c6-b45f-1e24d76c79b5"
      },
      "execution_count": null,
      "outputs": [
        {
          "output_type": "stream",
          "name": "stdout",
          "text": [
            "p =  0.0\n",
            "f(p) =  -0.3333333333333333\n",
            "La raíz de la ecución es  0.0\n",
            "Se obtuvo en la iteración  1\n"
          ]
        },
        {
          "output_type": "display_data",
          "data": {
            "text/plain": [
              "<Figure size 640x480 with 1 Axes>"
            ],
            "image/png": "[encoded data removed]"
          },
          "metadata": {}
        }
      ]
    },
    {
      "cell_type": "markdown",
      "source": [
        "## Ejercicio 2.3\n",
        "Construya un ejemplo de una función creciente que tenga infinitos puntos fijos sobre la recta real.\n",
        "\n",
        "Podríamos poner a $f(x) = x$, la cuál cumple con ser función creciente y tener infinitos puntos fijos sobre la recta real.\n",
        "\n"
      ],
      "metadata": {
        "id": "3WPDK9c9ujnp"
      }
    },
    {
      "cell_type": "code",
      "source": [
        "# Definición de funciones\n",
        "\n",
        "def g(x):\n",
        "  return x\n",
        "\n",
        "\n",
        "def f(x):\n",
        "  return x\n",
        "\n",
        "#IMPLEMENTACIÓN DE LA BISECCIÓN\n",
        "# Con 100 iteraciones en el intervalo [-1,1] y una tolerancia de 0.00001\n",
        "\n",
        "Bisec(-1,1,100,0.00001)\n",
        "\n",
        "# Para el intervalo [-1,1]\n",
        "intervalo2 = np.arange(-1,1,0.00001)\n",
        "# Para el intervalo [-1,1]\n",
        "intervalo1 = np.arange(-1,1,0.01)\n",
        "\n",
        "\n",
        "resultadof2 = [f(x) for x in intervalo2]\n",
        "resultadog2 = [g(x) for x in intervalo1]\n",
        "\n",
        "\n",
        "plt.plot(intervalo2,resultadof2, markersize = 5, color = 'red')\n",
        "plt.plot(intervalo1,resultadog2, ls = ':', marker = 'o',\n",
        "         markersize = 0.2 , color = 'black')\n",
        "plt.title(\"Funciones f(x) y g(x)\")\n",
        "plt.legend([\"f(x)\",\"g(x)\"])\n",
        "\n",
        "# Ejes\n",
        "plt.axvline(x = 0, color = 'black', ls = ':')\n",
        "plt.axhline(y = 0, color = 'black', ls = ':')\n",
        "\n",
        "# Etiquedas y graficamos\n",
        "plt.title(\"Cortes que representan la solución de g(x)=x\")\n",
        "plt.legend()\n",
        "plt.show()"
      ],
      "metadata": {
        "id": "fAXLeYFsujCu",
        "colab": {
          "base_uri": "https://localhost:8080/",
          "height": 525
        },
        "outputId": "3a66371a-7535-42d1-fecb-c0323fba2b46"
      },
      "execution_count": null,
      "outputs": [
        {
          "output_type": "stream",
          "name": "stderr",
          "text": [
            "WARNING:matplotlib.legend:No artists with labels found to put in legend.  Note that artists whose label start with an underscore are ignored when legend() is called with no argument.\n"
          ]
        },
        {
          "output_type": "stream",
          "name": "stdout",
          "text": [
            "La raíz de la ecución es  0.0\n",
            "Se obtuvo en la iteración  1\n"
          ]
        },
        {
          "output_type": "display_data",
          "data": {
            "text/plain": [
              "<Figure size 640x480 with 1 Axes>"
            ],
            "image/png": "[encoded data removed]"
          },
          "metadata": {}
        }
      ]
    },
    {
      "cell_type": "markdown",
      "source": [
        "## Ejercicio 2.4\n",
        "Implementar el siguiente pseudocódigo del método de **iteración de punto fijo**. La implementción tiene que ser una función.\n",
        "\n",
        "**Pseudocódigo:**\n",
        "\n",
        "Encontrar una solución a $p=g(p)$ dada una aproximación $p_0$.\n",
        "\n",
        "- **ENTRADA:** aproximación inicial $p_0$, tolerancia $TOL$, número máximo de iteraciones $N_0$.\n",
        "\n",
        "- **SALIDA:** aproximación $p$ o un mensaje de falla.\n",
        "\n",
        "- **Paso 1**: Determine $i=1$.\n",
        "- **Paso 2**: Mientras $i\\leq N_0$ hacer los pasos $3-6$.\n",
        "   - **Paso 3:** Calcular $p=g(p_0)$ (está calculando $p_i$).\n",
        "   - **Paso 4:** Si $|p-p_0|<TOL$ entonces\n",
        "      - **SALIDA:** ($p$); (Aquí termina el proceso de forma exitosa)\n",
        "      - **PARAMOS**\n",
        "   - **Paso 5**: Determinar $i=i+1$.\n",
        "   - **Paso 6**: Determinar $p_0=p$ (Actualizamos $p_0$).\n",
        "- **Paso 7:**\n",
        "   - **SALIDA**: (\"El método falló después de $N_0$ iteraciones, N_0=\", N_0)\n",
        "   - **PARAMOS**"
      ],
      "metadata": {
        "id": "FBKXoTBBu6Aj"
      }
    },
    {
      "cell_type": "code",
      "source": [
        "def g(p):\n",
        "  return p**2\n",
        "\n",
        "# p0 aproximación inicial\n",
        "# tol tolerancia\n",
        "# N número de iteraciones\n",
        "# g función\n",
        "def itpuntofijo(g,p0, tol, N):\n",
        "  i = 1\n",
        "  while i <= N:\n",
        "    p = g(p0)\n",
        "\n",
        "    if abs(p-p0) < tol:\n",
        "      print(\"Aquí termina el proceso de forma existosa \",p)\n",
        "      print(\"Se obtuvo en la iteración \",i)\n",
        "      break\n",
        "\n",
        "    elif i == N:\n",
        "      print(\"El método falló después de \", N , \" iteraciones\")\n",
        "\n",
        "    i += 1\n",
        "    p0 = p\n"
      ],
      "metadata": {
        "id": "vAY7T3Q7tJU9"
      },
      "execution_count": null,
      "outputs": []
    },
    {
      "cell_type": "code",
      "source": [
        "def g(x):\n",
        "  return 4*np.cos(x)\n",
        "\n",
        "# p0 aproximación inicial\n",
        "# tol tolerancia\n",
        "# N número de iteraciones\n",
        "\n",
        "itpuntofijo(g,1,10**(-6),50)\n"
      ],
      "metadata": {
        "colab": {
          "base_uri": "https://localhost:8080/"
        },
        "id": "jdwepTjSHdJf",
        "outputId": "be3a11f5-562e-4df4-d341-507d076e6b12"
      },
      "execution_count": null,
      "outputs": [
        {
          "output_type": "stream",
          "name": "stdout",
          "text": [
            "El método falló después de  50  iteraciones\n"
          ]
        }
      ]
    },
    {
      "cell_type": "markdown",
      "source": [
        "## Ejercicio 2.5\n",
        "\n",
        "Newton-Raphson\n",
        "\n",
        "Implementar el siguiente pseudocódigo. La implementación tiene que ser una función.\n",
        "\n",
        "**Pseudocódigo:**\n",
        "\n",
        "Encontrar una solución a $f(x)=0$ dada una aproximación $p_0$.\n",
        "\n",
        "- **ENTRADA:** aproximación inicial $p_0$, tolerancia $TOL$, número máximo de iteraciones $N_0$.\n",
        "\n",
        "- **SALIDA:** solución aproximada de $p$ o un mensaje de falla.\n",
        "\n",
        "- **Paso 1**: Determine $i=1$.\n",
        "- **Paso 2**: Mientras $i\\leq N_0$ hacer los pasos $3-6$.\n",
        "   - **Paso 3:** Calcular $p = p_0-f(p_0)/f'(p_0)$ (está calculando $p_i$).\n",
        "   - **Paso 4:** Si $|p-p_0|<TOL$ entonces\n",
        "      - **SALIDA:** ($p$); (Aquí termina el proceso de forma exitosa)\n",
        "      - **PARAMOS**\n",
        "   - **Paso 5**: Determinar $i=i+1$.\n",
        "   - **Paso 6**: Determinar $p_0=p$ (Actualizamos $p_0$).\n",
        "- **Paso 7:**\n",
        "   - **SALIDA**: (\"El método falló después de $N_0$ iteraciones, N_0=\", N_0)\n",
        "   - **PARAMOS**"
      ],
      "metadata": {
        "id": "TR_n9kP5yYsH"
      }
    },
    {
      "cell_type": "code",
      "source": [
        "#Función original\n",
        "def k(x):\n",
        "  return x\n",
        "\n",
        "# Derivada de la función\n",
        "\n",
        "def k_d(x):\n",
        "  return x\n",
        "\n",
        "# Código Newton-Raphson\n",
        "\n",
        "# k es la función original y k_d es su derivada\n",
        "# p0 aproximación inicial, tol tolerancia y N número de iteraciones\n",
        "def NR(k,k_d, p0, tol, N):\n",
        "  i = 1\n",
        "  while i <= N:\n",
        "    p = p0-(k(p0)/k_d(p0))\n",
        "\n",
        "    if abs(p - p0) < tol:\n",
        "      print(\"Aquí termina el proceso de forma exitosa con p=\",p)\n",
        "      print(\"Se obtuvo en la iteración \",i)\n",
        "      break\n",
        "\n",
        "    elif i == N:\n",
        "      print(\"El método falló después de \", N , \" iteraciones\")\n",
        "\n",
        "    i += 1\n",
        "    p0 = p\n"
      ],
      "metadata": {
        "id": "6ld_XpN5yYQQ"
      },
      "execution_count": null,
      "outputs": []
    },
    {
      "cell_type": "markdown",
      "source": [
        "## Ejercicio 2.6\n",
        "Considere el problema de hallar una raíz de la función $f(x)=cos(x)-x$ usando las implementaciones de\n",
        "\n",
        "1. Punto fijo, usando $cos(x)=x$\n",
        "\n",
        "2. NR"
      ],
      "metadata": {
        "id": "WksfRKcc16sL"
      }
    },
    {
      "cell_type": "markdown",
      "source": [
        "1. Para punto fijo definimos a la función $g(x) = x$"
      ],
      "metadata": {
        "id": "RR3-8BAterPW"
      }
    },
    {
      "cell_type": "code",
      "source": [
        "def g(p):\n",
        "  return np.cos(p)\n",
        "\n",
        "# p0 aproximación inicial\n",
        "# tol tolerancia\n",
        "# N número de iteraciones\n",
        "\n",
        "itpuntofijo(g,0.72, 0.00001, 100)"
      ],
      "metadata": {
        "id": "cgkln_PtyEBU",
        "colab": {
          "base_uri": "https://localhost:8080/"
        },
        "outputId": "10f4a9a5-74f6-4777-db98-d81cfc6d5420"
      },
      "execution_count": null,
      "outputs": [
        {
          "output_type": "stream",
          "name": "stdout",
          "text": [
            "Aquí termina el proceso de forma existosa  0.7390819499797958\n",
            "Se obtuvo en la iteración  22\n"
          ]
        }
      ]
    },
    {
      "cell_type": "markdown",
      "source": [
        "2. Para el método de Newton-Raphson"
      ],
      "metadata": {
        "id": "QmkI2ggfe5lL"
      }
    },
    {
      "cell_type": "code",
      "source": [
        "#Función original cos(x)-x\n",
        "def k(x):\n",
        "  return np.cos(x)-x\n",
        "\n",
        "# Derivada de la función -sen(x)-1\n",
        "\n",
        "def k_d(x):\n",
        "  return (np.sin(x))*(-1)-1\n",
        "\n",
        "\n",
        "# p0 aproximación inicial, tol tolerancia y N número de iteraciones\n",
        "\n",
        "NR(k,k_d,0.7, 0.00001, 3)"
      ],
      "metadata": {
        "colab": {
          "base_uri": "https://localhost:8080/"
        },
        "id": "s9yE39lVd9Ku",
        "outputId": "f98d85c7-487b-408d-99df-85ded07b3c03"
      },
      "execution_count": null,
      "outputs": [
        {
          "output_type": "stream",
          "name": "stdout",
          "text": [
            "Aquí termina el proceso de forma exitosa con p= 0.7390851332151608\n",
            "Se obtuvo en la iteración  3\n"
          ]
        }
      ]
    },
    {
      "cell_type": "markdown",
      "source": [
        "## Ejercicio 2.7\n",
        "Usando el método de NR aproximar, con $tol=10^{-4}$, el valor de x que nos da un punto en la gráfica de $y=x^{2}$ que es más cerca a $A(0,1)$."
      ],
      "metadata": {
        "id": "HyjhPT9rHY5e"
      }
    },
    {
      "cell_type": "markdown",
      "source": [
        "Sabemos que para encontrar la distancía entre dos puntos $(x_1,x_2)$ y $(x_3,x_4)$ utilizamos la fórmula $d(x)= \\sqrt{(x_3-x_1)^{2}+(x_4-x_1)^{2}}$.\n",
        "\n",
        "En este caso tendríamos que ver la distancia entre $(0,1)$ y $(x,x^{2})$, por lo que\n",
        "\n",
        "$$d(x)=\\sqrt{(x-0)^{2}+(x^{2}-1)^{2}}=\\sqrt{x^{2}+x^{4}-2x^{2}+1}=\\sqrt{x^{4}-x^{2}+1}$$\n",
        "\n",
        "Para minimizar la distancia, debemos encontrar la raíz de su derivada.\n",
        "\n",
        "$$f(x)=\\frac{1}{2}(x^{4}-x^{2}+1)^{-\\frac{1}{2}}(4x^{3}-2x)=\\frac{4x^{3}-2x}{2 \\sqrt{x^{4}-x^{2}+1}}=0$$\n",
        "\n",
        "Es decir cuando $4x^{3}-2x=0$\n",
        "\n",
        "Con el método NR tendríamos\n",
        "\n",
        "$$f(x) = 4x^{3}-2x$$\n",
        "$$f'(x) = 12x^{2}-2$$\n"
      ],
      "metadata": {
        "id": "Yhm_29mmJTN7"
      }
    },
    {
      "cell_type": "code",
      "source": [
        "#Función original\n",
        "def k(x):\n",
        "  return 4*(x**3)-2*x\n",
        "\n",
        "# Derivada de la función\n",
        "\n",
        "def k_d(x):\n",
        "  return 12*(x**2)-2\n",
        "\n",
        "\n",
        "# p0 aproximación inicial = 0.6\n",
        "# tol tolerancia = 10^{-4}\n",
        "# N número de iteraciones = 5\n",
        "\n",
        "NR(k,k_d,0.6, 10**(-4), 5)"
      ],
      "metadata": {
        "colab": {
          "base_uri": "https://localhost:8080/"
        },
        "id": "8xZ0sshkFndg",
        "outputId": "8c11e588-7641-4676-f146-879f49f86626"
      },
      "execution_count": null,
      "outputs": [
        {
          "output_type": "stream",
          "name": "stdout",
          "text": [
            "Aquí termina el proceso de forma exitosa con p= 0.7071067816736839\n",
            "Se obtuvo en la iteración  4\n"
          ]
        }
      ]
    },
    {
      "cell_type": "markdown",
      "source": [
        "Lo que nos dice es que $0.7071067816736839$ es una raíz de $4x^{3}-2x$.\n",
        "\n",
        "Entonces la distancia es $d(x)=\\sqrt{x^{4}-x^{2}+1}=\\sqrt{0.7071067816736839^{4}-0.7071067816736839^{2}+1}=0.75$\n",
        "\n",
        "Y el punto $(x,x**2)=(0.7071067816736839,0.5000000006889149)$"
      ],
      "metadata": {
        "id": "dTAvTw0uQDBn"
      }
    },
    {
      "cell_type": "markdown",
      "source": [
        "##Ejercicio 2.8\n",
        "Implementar el pseudocódigo. La implementación tiene que ser una función.\n",
        "\n",
        "Encontrar una solución a $f(x)=0$ dadas las aproximaciones $p_0$ y $p_1$.\n",
        "\n",
        "- **ENTRADA:** aproximaciones iniciales $p_0$, $p_1$, tolerancia $TOL$, número máximo de iteraciones $N_0$.\n",
        "\n",
        "- **SALIDA:** solución aproximada de $p$ o un mensaje de falla.\n",
        "\n",
        "- **Paso 1**:\n",
        "   - Determine $i=2$.\n",
        "   - $q_0=f(p_0)$\n",
        "   - $q_1=f(p_1)$\n",
        "- **Paso 2**: Mientras $i\\leq N_0$ hacer los pasos $3-6$.\n",
        "   - **Paso 3:** Calcular $\\displaystyle p = p_1-\\frac{q_1(p_1-p_0)}{q_1-q_0}$ (está calculando $p_i$).\n",
        "   - **Paso 4:** Si $|p-p_0|<TOL$ entonces\n",
        "      - **SALIDA:** ($p$); (Aquí termina el proceso de forma exitosa)\n",
        "      - **PARAMOS**\n",
        "   - **Paso 5**: Determinar $i=i+1$.\n",
        "   - **Paso 6**: Determinar (Actualizamos $p_0,q_0,p_1,q_1$)\n",
        "      - $p_0=p_1$;\n",
        "      - $q_0=q_1;$\n",
        "      - $p_1=p;$\n",
        "      - $q_1=f(p)$  \n",
        "- **Paso 7:**\n",
        "   - **SALIDA**: (\"El método falló después de $N_0$ iteraciones, N_0=\", N_0)\n",
        "   - **PARAMOS**\n",
        "\n",
        "#### **Observaciones**\n",
        "\n",
        "1. El algoritmo necesita dos aproximaciones iniciales $p_0$ y $p_1$.\n",
        "2. Cada paso, después del inicial, necesita únicamente la evaluación de la función $f$, mientras que el algoritmo $NR$ ocupa evaluar $f$ y evaluar $f'$.\n",
        "3. Ojo, el punto anterior puede ser una mejora, pero tengan encuenta que ahora se realizan más operaciones básicas."
      ],
      "metadata": {
        "id": "NQodbNKGqdOk"
      }
    },
    {
      "cell_type": "code",
      "source": [
        "# Método de la secante\n",
        "# f función\n",
        "# p0 aproximación inicial\n",
        "# p1 segunda aproximación inicial\n",
        "# tol tolerancia\n",
        "# N número de iteraciones\n",
        "\n",
        "def sec(f,p0,p1,tol,N):\n",
        "  i = 2\n",
        "  q0 = f(p0)\n",
        "  q1 = f(p1)\n",
        "  while i <= N:\n",
        "\n",
        "    p = p1 - (q1*(p1-p0))/(q1-q0)\n",
        "\n",
        "    if abs(p-p0) < tol:\n",
        "      print(\"Aquí termina el proceso de forma exitosa con p=\",p)\n",
        "      print(\"Se obtuvo en la iteración \",i)\n",
        "      break\n",
        "\n",
        "    elif i == N:\n",
        "      print(\"El método falló después de \", N , \" iteraciones\")\n",
        "\n",
        "    i += 1\n",
        "    p0 = p1\n",
        "    q0 = q1\n",
        "    p1 = p\n",
        "    q1 = f(p)\n"
      ],
      "metadata": {
        "id": "-RgIEmGzQPiZ"
      },
      "execution_count": null,
      "outputs": []
    },
    {
      "cell_type": "code",
      "source": [
        "def k(x):\n",
        "  return 4*(x**3)-2*x\n",
        "\n",
        "# p0 aproximación inicial = 0.6\n",
        "# tol tolerancia = 10^{-4}\n",
        "# N número de iteraciones = 5\n",
        "\n",
        "sec(k,0.6,0.7,10**(-4),5)\n"
      ],
      "metadata": {
        "id": "c-mlzQfsak_x",
        "colab": {
          "base_uri": "https://localhost:8080/"
        },
        "outputId": "98876c15-cf59-4a1f-e769-57a28809b272"
      },
      "execution_count": null,
      "outputs": [
        {
          "output_type": "stream",
          "name": "stdout",
          "text": [
            "Aquí termina el proceso de forma exitosa con p= 0.707106781194647\n",
            "Se obtuvo en la iteración  5\n"
          ]
        }
      ]
    },
    {
      "cell_type": "markdown",
      "source": [
        "## Ejercicio 2.9\n",
        "Implementar el pseudocódigo. La implementación tiene que ser una función.\n",
        "\n",
        "Encontrar una solución a $f(x)=0$ dada la función $f$ continua en el intervalo $[p_0, p_1]$ donde $f(p_0)$ y $f(p_1)$ tiene signos opuestos.\n",
        "\n",
        "- **ENTRADA:** aproximaciones iniciales $p_0$, $p_1$, tolerancia $TOL$, número máximo de iteraciones $N_0$.\n",
        "\n",
        "- **SALIDA:** solución aproximada de $p$ o un mensaje de falla.\n",
        "\n",
        "- **Paso 1**:\n",
        "   - Determine $i=2$.\n",
        "   - $q_0=f(p_0)$\n",
        "   - $q_1=f(p_1)$\n",
        "- **Paso 2**: Mientras $i\\leq N_0$ hacer los pasos $3-7$.\n",
        "   - **Paso 3:** Calcular $\\displaystyle p = p_1-\\frac{q_1(p_1-p_0)}{q_1-q_0}$ (está calculando $p_i$).\n",
        "   - **Paso 4:** Si $|p-p_0|<TOL$ entonces\n",
        "      - **SALIDA:** ($p$); (Aquí termina el proceso de forma exitosa)\n",
        "      - **PARAMOS**\n",
        "   - **Paso 5**: Determinar\n",
        "      - $i=i+1$.\n",
        "      - $q=f(p).$\n",
        "   - **Paso 6**: Si $q\\cdot q_1<0$ entonces determine:\n",
        "      - $p_0=p_1.$\n",
        "      - $q_0=q_1.$\n",
        "   - **Paso 7**: Determinar\n",
        "      - $p_1=p$\n",
        "      - $q_1=q$\n",
        "- **Paso 8:**\n",
        "   - **SALIDA**: (\"El método falló después de $N_0$ iteraciones, N_0=\", N_0)\n",
        "   - **PARAMOS**\n"
      ],
      "metadata": {
        "id": "pFvS4hg2tZbb"
      }
    },
    {
      "cell_type": "code",
      "source": [
        "# Falsa posición\n",
        "\n",
        "# f función\n",
        "# (p0,p1) intervalo donde se encuentra la función\n",
        "# tol tolerancia\n",
        "# N número de iteraciones\n",
        "\n",
        "def posfalsa(f,p0,p1,tol,N):\n",
        "  i = 2\n",
        "  q0 = f(p0)\n",
        "  q1 = f(p1)\n",
        "\n",
        "  while i <= N:\n",
        "\n",
        "    p = p1 - (q1*(p1-p0))/(q1-q0)\n",
        "\n",
        "    if abs(p-p0) < tol:\n",
        "      print(\"Aquí termina el proceso de forma exitosa con p=\",p)\n",
        "      print(\"Se obtuvo en la iteración \",i)\n",
        "      break\n",
        "\n",
        "    elif i == N:\n",
        "      print(\"El método falló después de \", N , \" iteraciones\")\n",
        "\n",
        "    i += 1\n",
        "    q = f(p)\n",
        "\n",
        "    if q*q1 < 0:\n",
        "      p0 = p1\n",
        "      q0 = q1\n",
        "\n",
        "    p1 = p\n",
        "    q1 = q\n"
      ],
      "metadata": {
        "id": "ZZIE7hnCtmJY"
      },
      "execution_count": null,
      "outputs": []
    },
    {
      "cell_type": "code",
      "source": [
        "def k(x):\n",
        "  return 4*(x**3)-2*x\n",
        "\n",
        "# p0 aproximación inicial = 0.6\n",
        "# tol tolerancia = 10^{-4}\n",
        "# N número de iteraciones = 5\n",
        "\n",
        "posfalsa(k,0.65,0.75,10**(-4),5)\n"
      ],
      "metadata": {
        "colab": {
          "base_uri": "https://localhost:8080/"
        },
        "id": "NgSZOJIeuhyW",
        "outputId": "5e8df6e4-7973-4023-d83e-fbf005d989a1"
      },
      "execution_count": null,
      "outputs": [
        {
          "output_type": "stream",
          "name": "stdout",
          "text": [
            "El método falló después de  5  iteraciones\n"
          ]
        }
      ]
    },
    {
      "cell_type": "markdown",
      "source": [
        "## Ejercicio 2.10\n",
        "La suma de dos numeros es 20. Si cada numero se le suma su raíz, el producto de las dos sumas es 155.55. Determine los dos números con con $tol = 10^{-4}$.\n",
        "\n",
        "Ideas:\n",
        "$$ x + y =20 ⟹ y = 20 - x $$\n",
        "\n",
        "$$(x+\\sqrt{x})(y+\\sqrt{y})=155.55$$\n",
        "\n",
        "$$⟹ (x+\\sqrt{x})(20 - x+\\sqrt{20 - x})-155.55=0$$\n",
        "Aplicar $NR$ a esta expresión:\n",
        "$$f(x)= (x + \\sqrt{x})(20 - x + \\sqrt{20 - x}) - 155.55$$\n",
        "\n",
        "$$f'(x)=20-2x+\\sqrt{20-x}-\\frac{x}{2\\sqrt{20-x}}+\\frac{10}{\\sqrt{x}}-\\frac{3\\sqrt{x}}{2}+\\frac{10-x}{\\sqrt{20x-x^{2}}}$$"
      ],
      "metadata": {
        "id": "WiWZgODLxGBR"
      }
    },
    {
      "cell_type": "code",
      "source": [
        "#Función original\n",
        "def k(x):\n",
        "  return (x+np.sqrt(x))*(20-x+np.sqrt(20-x))-155.55\n",
        "\n",
        "# Derivada de la función\n",
        "\n",
        "def k_d(x):\n",
        "  return 20 - 2*x + np.sqrt(20-x)-x/(2*np.sqrt(20-x))+10/np.sqrt(x)-(3/2)*np.sqrt(x)+10/np.sqrt(20*x-x**2)\n",
        "\n",
        "\n",
        "\n",
        "# p0 aproximación inicial = 0.6\n",
        "# tol tolerancia = 10^{-4}\n",
        "# N número de iteraciones = 5\n",
        "\n",
        "NR(k,k_d,0.6, 10**(-4), 1000)"
      ],
      "metadata": {
        "colab": {
          "base_uri": "https://localhost:8080/"
        },
        "id": "Jr7qAcS7xQxr",
        "outputId": "4b0ab201-3e6a-47eb-e4fe-908356c450f6"
      },
      "execution_count": null,
      "outputs": [
        {
          "output_type": "stream",
          "name": "stdout",
          "text": [
            "Aquí termina el proceso de forma exitosa con p= 6.512847053133464\n",
            "Se obtuvo en la iteración  7\n"
          ]
        }
      ]
    },
    {
      "cell_type": "markdown",
      "source": [
        "Con esto obtenemos el valor de $x$ en el cuál $f(x)=0$, por lo que una aproximación al primer número es $x=6.512847053133464$, con esto podemos calcular a $y=20-x=20-6.512847053133464=13.487152946866537$.\n",
        "\n",
        "Veamos que\n",
        "\n",
        " $(13.487152946866537+\\sqrt{13.487152946866537})(6.512847053133464+\\sqrt{6.512847053133464})=17.159638882423884(9.064875080631097)=155.5499828979127$"
      ],
      "metadata": {
        "id": "OzhH0gKdymyt"
      }
    },
    {
      "cell_type": "code",
      "source": [
        "NR(k,k_d,13, 10**(-4), 1000)"
      ],
      "metadata": {
        "colab": {
          "base_uri": "https://localhost:8080/"
        },
        "id": "z1ICS58AzuX6",
        "outputId": "8c21620d-ff59-455a-9978-69ab48e7e373"
      },
      "execution_count": null,
      "outputs": [
        {
          "output_type": "stream",
          "name": "stdout",
          "text": [
            "Aquí termina el proceso de forma exitosa con p= 13.487137442394431\n",
            "Se obtuvo en la iteración  6\n"
          ]
        }
      ]
    },
    {
      "cell_type": "markdown",
      "source": [
        "Con esto obtenemos el valor de $x$ en el cuál $f(x)=0$, por lo que una aproximación al primer número es $x=13.487137442394431$, con esto podemos calcular a $y=20-x=20-13.487137442394431=6.512862557605569$.\n",
        "\n",
        "Veamos que\n",
        "\n",
        " $(13.487137442394431+\\sqrt{13.487137442394431})(6.512862557605569+\\sqrt{6.512862557605569})=17.159638882423884(9.064875080631097)=155.5501413930152$\n",
        "\n",
        " Como $f(x)=0$ tiene dos raíces, obtenemos dos aproximaciones muy cercanas."
      ],
      "metadata": {
        "id": "iUn4sUFyz1HN"
      }
    },
    {
      "cell_type": "markdown",
      "source": [
        "Método de Newton Raphson de orden 2\n",
        "\n",
        "Se necesitan dos derivadas"
      ],
      "metadata": {
        "id": "xx20DK1lNiPy"
      }
    },
    {
      "cell_type": "code",
      "source": [
        "import numpy as np\n",
        "#Función original\n",
        "def k(x):\n",
        "  return x**3+2\n",
        "\n",
        "# Primera derivada de la función\n",
        "\n",
        "def k_d(x):\n",
        "  return 3*(x**2)\n",
        "\n",
        "# Segunda derivada de la función\n",
        "\n",
        "def k_d2(x):\n",
        "  return 6*x\n",
        "\n",
        "\n",
        "# Código Newton-Raphson\n",
        "\n",
        "# k es la función original, k_d es su primera derivada y k_d2 es su segunda derivada\n",
        "# p0 aproximación inicial, tol tolerancia y N número de iteraciones\n",
        "def NR2(k,k_d,k_d2 ,p0, tol, N):\n",
        "  i = 1\n",
        "\n",
        "  while i <= N:\n",
        "    A = k_d(p0)/k_d2(p0)\n",
        "    B = (2*k(p0)*k_d2(p0))/(k_d(p0)**2)\n",
        "\n",
        "    if 1-B < 0:\n",
        "      print(\"Valor negativo dentro de la raíz, último valor p0 =\",p0)\n",
        "      break\n",
        "\n",
        "    p = p0-A*(1+np.sqrt(1-B))\n",
        "    print(p)\n",
        "\n",
        "    if abs(p - p0) < tol:\n",
        "      print(\"Aquí termina el proceso de forma exitosa con p=\",p)\n",
        "      print(\"Se obtuvo en la iteración \",i)\n",
        "      break\n",
        "\n",
        "    elif i == N:\n",
        "      print(\"El método falló después de \", N , \" iteraciones\")\n",
        "\n",
        "    i += 1\n",
        "    p0 = p\n"
      ],
      "metadata": {
        "id": "IetNty1wNh8i"
      },
      "execution_count": null,
      "outputs": []
    },
    {
      "cell_type": "code",
      "source": [
        "e = 1/2**(52)\n",
        "e"
      ],
      "metadata": {
        "colab": {
          "base_uri": "https://localhost:8080/"
        },
        "id": "TTaXFP2oBGs8",
        "outputId": "3dba4958-24b7-4e67-fbfd-27be629e5609"
      },
      "execution_count": null,
      "outputs": [
        {
          "output_type": "execute_result",
          "data": {
            "text/plain": [
              "2.220446049250313e-16"
            ]
          },
          "metadata": {},
          "execution_count": 3
        }
      ]
    },
    {
      "cell_type": "code",
      "source": [
        "(1-e/3)-1"
      ],
      "metadata": {
        "colab": {
          "base_uri": "https://localhost:8080/"
        },
        "id": "nYgaIwQSBK8S",
        "outputId": "459e8b8b-4d74-42ae-b82d-eeae0c2401d5"
      },
      "execution_count": null,
      "outputs": [
        {
          "output_type": "execute_result",
          "data": {
            "text/plain": [
              "-1.1102230246251565e-16"
            ]
          },
          "metadata": {},
          "execution_count": 2
        }
      ]
    },
    {
      "cell_type": "code",
      "source": [
        "(1-2**(-55))-1"
      ],
      "metadata": {
        "colab": {
          "base_uri": "https://localhost:8080/"
        },
        "id": "D5yLcN29BVvp",
        "outputId": "3b7f708e-ca32-4536-f7a5-1b980688bc55"
      },
      "execution_count": null,
      "outputs": [
        {
          "output_type": "execute_result",
          "data": {
            "text/plain": [
              "0.0"
            ]
          },
          "metadata": {},
          "execution_count": 4
        }
      ]
    },
    {
      "cell_type": "markdown",
      "source": [
        "# Capítulo 3\n",
        "\n",
        "En esta sección, se exploraron diversos métodos para aproximar derivadas, abordando tanto sus procedimientos como los errores de truncamiento asociados. A lo largo del análisis, comparamos los métodos con el fin de minimizar dicho error y obtener resultados más precisos. Además, se estudiaron técnicas de integración, como los métodos de cuadratura, que permiten mejorar la aproximación al dividir el área a calcular en segmentos más pequeños."
      ],
      "metadata": {
        "id": "18ppkccEvZLs"
      }
    },
    {
      "cell_type": "markdown",
      "source": [
        "## Ejercicio 3.1\n",
        "Implementar una función en python del método de diferencia hacia adelante, hacia atrás y diferencia centrada. Esta función tiene que recibir una función $f$, un paso $h$  y el punto $x_0$, además de un texto (string) que diga qué método usará."
      ],
      "metadata": {
        "id": "kLR7I0j4fwb5"
      }
    },
    {
      "cell_type": "code",
      "source": [
        "#Calcula la derivada de una función usando diferentes métodos de diferencias finitas.\n",
        "# x0 punto donde se evalúa la derivada\n",
        "# metodo: adelante, atras, centrada\n",
        "\n",
        "def diferencias(f, h, x0, metodo):\n",
        "\n",
        "  if metodo == 'adelante':\n",
        "    derivada = (f(x0 + h) - f(x0)) / h\n",
        "    metodo_usado = \"Diferencia hacia adelante\"\n",
        "  elif metodo == 'atras':\n",
        "    derivada = (f(x0) - f(x0 - h)) / h\n",
        "    metodo_usado = \"Diferencia hacia atrás\"\n",
        "  elif metodo == 'centrada':\n",
        "    derivada = (f(x0 + h) - f(x0 - h)) / (2 * h)\n",
        "    metodo_usado = \"Diferencia centrada\"\n",
        "  else:\n",
        "    derivada = None\n",
        "    metodo_usado = \"Método no reconocido\"\n",
        "\n",
        "  print( \"El método utilizado es \",metodo_usado,\" el resultado es \",derivada )"
      ],
      "metadata": {
        "id": "N-eKDrCUfVTn"
      },
      "execution_count": null,
      "outputs": []
    },
    {
      "cell_type": "code",
      "source": [
        "def f(x):\n",
        "  return x\n",
        "\n",
        "diferencias(f, 0.1, 1, \"adelante\")"
      ],
      "metadata": {
        "colab": {
          "base_uri": "https://localhost:8080/"
        },
        "id": "6LuSwCOrgvVq",
        "outputId": "c2821906-8c53-4a4b-e652-e6cee3e340e0"
      },
      "execution_count": null,
      "outputs": [
        {
          "output_type": "stream",
          "name": "stdout",
          "text": [
            "El método utilizado es  Diferencia hacia adelante  el resultado es  1.0000000000000009\n"
          ]
        }
      ]
    },
    {
      "cell_type": "markdown",
      "source": [
        "## Ejercicio 3.2\n",
        "Escribir una función que calcule la aproximación vista de de la segunda derivada. Esta tiene que recibir como parámetros la función $f$, el paso $h$ y el punto $x_0$.\n"
      ],
      "metadata": {
        "id": "Hj0eUbtShgEr"
      }
    },
    {
      "cell_type": "code",
      "source": [
        "\n",
        "# Calcula la segunda derivada por metodo centrado\n",
        "# x0 punto donde se evalúa la segunda derivada\n",
        "def segunda_derivada(f, h, x0):\n",
        "\n",
        "  derivada = (f(x0 + h) - 2 * f(x0) + f(x0 - h)) / (h**2)\n",
        "  print(\"La aproximación de la segunda derivada en x0 =\", x0, \"es:\", derivada)\n",
        "\n",
        "# Ejemplo de uso\n",
        "def f(x):\n",
        "  return x**3\n",
        "\n",
        "segunda_derivada(f, 0.1, 1)"
      ],
      "metadata": {
        "colab": {
          "base_uri": "https://localhost:8080/"
        },
        "id": "gPfjpm__g4A6",
        "outputId": "32c8abc9-f660-4878-8dd1-a4f3680dd0a9"
      },
      "execution_count": null,
      "outputs": [
        {
          "output_type": "stream",
          "name": "stdout",
          "text": [
            "La aproximación de la segunda derivada en x0 = 1 es: 6.000000000000049\n"
          ]
        }
      ]
    },
    {
      "cell_type": "markdown",
      "source": [
        "## Ejercicio 3.3\n",
        "Implementar una función en python que calcule la aproximación a la integral usando el método del punto medio (la de rectángulos) que reciba los parámetros\n",
        "- la fución $f$,\n",
        "- el intervalo $[a,b]$ (realmente dos números),\n",
        "- un string que se use para decidir qué tipo de implementación, punto medio, extremo izquierdo o extremo derecho,\n",
        "y devuelva el valor de la aproximación."
      ],
      "metadata": {
        "id": "vICgujM5iCjg"
      }
    },
    {
      "cell_type": "code",
      "source": [
        "# Calcula la aproximación a la integral usando el método del punto medio.\n",
        "\n",
        "def calcular_integral_punto_medio_simple(f, a, b):\n",
        "\n",
        "    # Punto medio del intervalo\n",
        "    punto_medio = (a + b) / 2\n",
        "\n",
        "    # Aproximación de la integral\n",
        "    integral_aproximada = (b - a) * f(punto_medio)\n",
        "\n",
        "    print(\"Usando el método del punto medio, el resultado es:\", integral_aproximada)\n",
        "    return integral_aproximada\n",
        "\n",
        "\n",
        "def mi_funcion(x):\n",
        "    return x**2\n",
        "\n",
        "a = 0\n",
        "b = 1\n",
        "calcular_integral_punto_medio_simple(mi_funcion, a, b)\n"
      ],
      "metadata": {
        "colab": {
          "base_uri": "https://localhost:8080/"
        },
        "id": "c-SUO_Klh-BB",
        "outputId": "8303e4d2-b640-4adb-d00d-b3c38f5b09fe"
      },
      "execution_count": null,
      "outputs": [
        {
          "output_type": "stream",
          "name": "stdout",
          "text": [
            "Usando el método del punto medio (simple), el resultado es: 0.25\n"
          ]
        },
        {
          "output_type": "execute_result",
          "data": {
            "text/plain": [
              "0.25"
            ]
          },
          "metadata": {},
          "execution_count": 19
        }
      ]
    },
    {
      "cell_type": "markdown",
      "source": [
        "##Ejercicio 3.4\n",
        "Implementar una función en python que calcule la aproximación a la integral usando el método del trapecio que recibo los parámetros\n",
        "- la fución $f$,\n",
        "- el intervalo $[a,b]$ (realmente dos números),\n",
        "y devuelva el valor de la aproximación.\n"
      ],
      "metadata": {
        "id": "PkTUkxLjkoIE"
      }
    },
    {
      "cell_type": "code",
      "source": [
        "# Calcula la derivada con el metodo del trapecio\n",
        "\n",
        "def calcular_integral_trapecio_simple(f, a, b):\n",
        "\n",
        "    # Método del trapecio: Área = (b - a) * (f(a) + f(b)) / 2\n",
        "    integral_aproximada = (b - a) * (f(a) + f(b)) / 2\n",
        "    print(\"Usando el método del trapecio (simple), el resultado es:\", integral_aproximada)\n",
        "    return integral_aproximada\n",
        "\n",
        "# Ejemplo de uso\n",
        "def mi_funcion(x):\n",
        "    return x**2\n",
        "\n",
        "a = 0\n",
        "b = 1\n",
        "calcular_integral_trapecio_simple(mi_funcion, a, b)"
      ],
      "metadata": {
        "colab": {
          "base_uri": "https://localhost:8080/"
        },
        "id": "lijE9Lg-kqm8",
        "outputId": "d9b8ae09-a705-4ad6-fc6d-e0e92a2dbcf5"
      },
      "execution_count": null,
      "outputs": [
        {
          "output_type": "stream",
          "name": "stdout",
          "text": [
            "Usando el método del trapecio (simple), el resultado es: 0.5\n"
          ]
        },
        {
          "output_type": "execute_result",
          "data": {
            "text/plain": [
              "0.5"
            ]
          },
          "metadata": {},
          "execution_count": 18
        }
      ]
    },
    {
      "cell_type": "markdown",
      "source": [
        "##Ejercicio 3.5\n",
        "Implementar una función en python que calcule la aproximación a la integral usando el método de Simpson que recibo los parámetros\n",
        "- la fución $f$,\n",
        "- el intervalo $[a,b]$ (realmente dos números),\n",
        "y devuelva el valor de la aproximación. Asumir que los valores para la aproximaxión son el punto medio y los extremos."
      ],
      "metadata": {
        "id": "4uN33MpblLAU"
      }
    },
    {
      "cell_type": "code",
      "source": [
        "# Calcula la regla de simpson con la siguiente aproximación h/3[f(x0)+4f(x1)+f(x2)]\n",
        "\n",
        "def simpson_1_3(f, a, b):\n",
        "\n",
        "    x0 = a\n",
        "    x1 = (a + b) / 2\n",
        "    x2 = b\n",
        "    h = (b - a) / 2\n",
        "\n",
        "    integral_aproximada = (h / 3) * (f(x0) + 4 * f(x1) + f(x2))\n",
        "    print(\"Usando la regla de Simpson 1/3, la aproximación de la integral es:\", integral_aproximada)\n",
        "\n",
        "# Ejemplo de uso:\n",
        "def mi_funcion(x):\n",
        "    return x**2\n",
        "\n",
        "a = 0\n",
        "b = 1\n",
        "simpson_1_3(mi_funcion, a, b)"
      ],
      "metadata": {
        "colab": {
          "base_uri": "https://localhost:8080/"
        },
        "id": "NN4J52XYkUPo",
        "outputId": "dcf98372-b225-4b94-c1c1-4627b2c9c192"
      },
      "execution_count": null,
      "outputs": [
        {
          "output_type": "stream",
          "name": "stdout",
          "text": [
            "Usando la regla de Simpson 1/3, la aproximación de la integral es: 0.3333333333333333\n"
          ]
        }
      ]
    },
    {
      "cell_type": "markdown",
      "source": [
        "##Ejercicio 3.6\n",
        "Escribir una función que calcule la regla de composición de cada uno de los métodos vistos. Se tiene que dar el método, la función y el número de subintervalos en los que se dividirá el intervalo."
      ],
      "metadata": {
        "id": "W0K0kxD5lt3S"
      }
    },
    {
      "cell_type": "code",
      "source": [
        "# Método de composición del trapecio\n",
        "# n Número de subintervalos\n",
        "\n",
        "def calcular_integral_trapecio_compuesto(f, a, b, n):\n",
        "\n",
        "    h = (b - a) / n\n",
        "    suma = 0.5 * (f(a) + f(b))\n",
        "    for i in range(1, n):\n",
        "        suma += f(a + i * h)\n",
        "    integral_aproximada = h * suma\n",
        "    print(\"Usando el método del trapecio compuesto, el resultado es:\", integral_aproximada)\n",
        "    return integral_aproximada\n",
        "\n",
        "\n",
        "def f(x):\n",
        "    return x**2\n",
        "\n",
        "a = 0\n",
        "b = 1\n",
        "n = 10\n",
        "calcular_integral_trapecio_compuesto(f, a, b, n)"
      ],
      "metadata": {
        "colab": {
          "base_uri": "https://localhost:8080/"
        },
        "id": "LHWwOwsmlqKh",
        "outputId": "520274de-062b-49d8-a704-ab95b173ec7e"
      },
      "execution_count": null,
      "outputs": [
        {
          "output_type": "stream",
          "name": "stdout",
          "text": [
            "Usando el método del trapecio compuesto, el resultado es: 0.3350000000000001\n"
          ]
        },
        {
          "output_type": "execute_result",
          "data": {
            "text/plain": [
              "0.3350000000000001"
            ]
          },
          "metadata": {},
          "execution_count": 20
        }
      ]
    },
    {
      "cell_type": "code",
      "source": [
        "# Regla de composicion del punto medio\n",
        "\n",
        "def regla_punto_medio_compuesto(f, a, b, n):\n",
        "\n",
        "    h = (b - a) / n\n",
        "    suma = 0\n",
        "    for i in range(n):\n",
        "        xi = a + (i + 0.5) * h\n",
        "        suma += f(xi)\n",
        "    integral_aproximada = h * suma\n",
        "    print(\"Usando la regla compuesta del punto medio, la aproximación de la integral es:\", integral_aproximada)\n",
        "\n",
        "a = 0\n",
        "b = 1\n",
        "n = 10\n",
        "regla_punto_medio_compuesto(f, a, b, n)"
      ],
      "metadata": {
        "colab": {
          "base_uri": "https://localhost:8080/"
        },
        "id": "0SKHG1uAmzXR",
        "outputId": "83a47619-a5f1-4d4c-c74a-ee5a20a8796e"
      },
      "execution_count": null,
      "outputs": [
        {
          "output_type": "stream",
          "name": "stdout",
          "text": [
            "Usando la regla compuesta del punto medio, la aproximación de la integral es: 0.3325\n"
          ]
        }
      ]
    },
    {
      "cell_type": "code",
      "source": [
        "# Método de composición de simpson\n",
        "\n",
        "def simpson_compuesto(f, a, b, n):\n",
        "\n",
        "    if n % 2 != 0:\n",
        "        raise ValueError(\"El número de subintervalos (n) debe ser par para la regla de Simpson compuesta.\")\n",
        "\n",
        "    h = (b - a) / n\n",
        "    suma_pares = 0\n",
        "    suma_impares = 0\n",
        "\n",
        "    for i in range(1, n, 2):\n",
        "        suma_impares += f(a + i * h)\n",
        "    for i in range(2, n - 1, 2):\n",
        "        suma_pares += f(a + i * h)\n",
        "\n",
        "    integral_aproximada = (h / 3) * (f(a) + 4 * suma_impares + 2 * suma_pares + f(b))\n",
        "    print(\"Usando el método de Simpson compuesto, el resultado es:\", integral_aproximada)\n",
        "\n",
        "\n",
        "\n",
        "def (x):\n",
        "    return x**2\n",
        "\n",
        "a = 0\n",
        "b = 1\n",
        "n = 10\n",
        "simpson_compuesto(f, a, b, n)"
      ],
      "metadata": {
        "colab": {
          "base_uri": "https://localhost:8080/"
        },
        "id": "7Eb5ScbDm9-p",
        "outputId": "2e825f77-37ce-467d-dc14-416bbd869b54"
      },
      "execution_count": null,
      "outputs": [
        {
          "output_type": "stream",
          "name": "stdout",
          "text": [
            "Usando el método de Simpson compuesto, el resultado es: 0.3333333333333333\n"
          ]
        }
      ]
    }
  ]
}